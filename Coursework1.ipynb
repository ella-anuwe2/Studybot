{
 "cells": [
  {
   "cell_type": "markdown",
   "metadata": {},
   "source": [
    "code sources:\n",
    "- labs"
   ]
  },
  {
   "cell_type": "code",
   "execution_count": null,
   "metadata": {},
   "outputs": [],
   "source": [
    "import nltk , re , pprint , string, numpy, scipy\n",
    "from nltk import word_tokenize , sent_tokenize\n",
    "from nltk.util import ngrams , bigrams\n",
    "from nltk.lm import MLE\n",
    "from nltk.lm.preprocessing import pad_both_ends"
   ]
  },
  {
   "cell_type": "markdown",
   "metadata": {},
   "source": [
    "training data - the chatbot should take in some files with \n",
    "example conversation data, and then process it and put it into \n",
    "some sort of vector space or document or matrix.\n",
    "\n",
    "This matrix should have a tf-idf weighting of some sort\n",
    "training data:\n",
    "- https://kili-technology.com/blog/36-best-machine-learning-datasets-for-chatbot-training\n",
    "- https://ai.google.com/research/NaturalQuestions/download\n",
    "- http://convai.io/data/"
   ]
  },
  {
   "cell_type": "code",
   "execution_count": null,
   "metadata": {},
   "outputs": [],
   "source": [
    "import os\n",
    "\n",
    "document_path = \"Datasets\\\\questions\"\n",
    "\n",
    "corpus = {}\n",
    "\n",
    "for file in os.listdir(document_path):\n",
    "    filepath = document_path + os.sep + file\n",
    "    with open(filepath, encoding='utf-8', errors='ignore', mode='r') as document:\n",
    "        content = document.read()\n",
    "        document_id = file\n",
    "        corpus[document_id] = content "
   ]
  },
  {
   "cell_type": "code",
   "execution_count": null,
   "metadata": {},
   "outputs": [],
   "source": []
  },
  {
   "cell_type": "code",
   "execution_count": null,
   "metadata": {},
   "outputs": [],
   "source": [
    "#processing the contents of the training data\n",
    "\n",
    "string.punctuation = string.punctuation + \"'\"+\"-\"+\"'\"+\"-\"\n",
    "#this adds some additional charactures to the set of punctuation characters\n",
    "\n",
    "string.punctuation = string.punctuation.replace(\".\", \"\")\n",
    "file = open(\"Datasets\\\\TestReadingQu.txt\", encoding = \"utf8\").read()\n",
    "\n",
    "file_nl_removed = \"\"\n",
    "\n",
    "for line in file:\n",
    "    line_nl_removed = line.replace(\"\\n\", \" \") #removing newline characters\n",
    "    file_nl_removed += line_nl_removed\n",
    "file_p = \"\".join([char for char in file_nl_removed if char not in string.punctuation])\n",
    "#joins all the lines in the list to a single string\n",
    "\n",
    "#this cell is responsible for pre-processing the text by temoving new lines\n",
    "#removes \\n with filtered line\n",
    "#print(file_p)"
   ]
  },
  {
   "cell_type": "code",
   "execution_count": null,
   "metadata": {},
   "outputs": [],
   "source": [
    "isUnderstood = False\n",
    "username = \"user\"\n",
    "subject = \"\"\n",
    "topic = \"\"\n",
    "def generateText(query):\n",
    "    if(query.contains('name')):\n",
    "        username = findName(query)\n",
    "    if(isUnderstood):\n",
    "        return \"hello\"\n",
    "    else:\n",
    "        return defaultResponse(query)\n",
    "    \n",
    "def defaultResponse(query):\n",
    "    return \"sorry, could you rephrase that\"\n",
    "\n",
    "def findName():\n",
    "    return \"unknown\" #fix this to find the name within the query\n"
   ]
  },
  {
   "cell_type": "code",
   "execution_count": null,
   "metadata": {},
   "outputs": [],
   "source": [
    "\n",
    "#this is the main while loop which eveything else comes from. the program will stop when the user says bye\n",
    "user = 2 #user 2 is the user, and 1 is the bot\n",
    "BOT = 1\n",
    "USER = 2\n",
    "\n",
    "welcome_message = 'hello, I am studybot. How can I help you?'\n",
    "print(welcome_message)\n",
    "query = \"\"\n",
    "while(query != \"bye\"):\n",
    "    if(user == BOT):\n",
    "        print(generateText(query))\n",
    "        user = USER\n",
    "    elif(user == USER):\n",
    "        query = input()\n",
    "        if(query == \"bye\"):\n",
    "            print(\"I hope I was of use! Goodbye! :)\")\n",
    "            break\n",
    "        user = BOT\n",
    "    else:\n",
    "        print('error')"
   ]
  }
 ],
 "metadata": {
  "kernelspec": {
   "display_name": "Python 3.8.5",
   "language": "python",
   "name": "python3"
  },
  "language_info": {
   "codemirror_mode": {
    "name": "ipython",
    "version": 3
   },
   "file_extension": ".py",
   "mimetype": "text/x-python",
   "name": "python",
   "nbconvert_exporter": "python",
   "pygments_lexer": "ipython3",
   "version": "3.8.5"
  },
  "orig_nbformat": 4,
  "vscode": {
   "interpreter": {
    "hash": "c3a58a561c646cc51c54898e60aed52eb4ee202896a490647e63b7274caa4c8c"
   }
  }
 },
 "nbformat": 4,
 "nbformat_minor": 2
}
