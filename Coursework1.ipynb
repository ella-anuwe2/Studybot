{
 "cells": [
  {
   "cell_type": "code",
   "execution_count": 13,
   "metadata": {},
   "outputs": [],
   "source": [
    "import nltk , re , pprint , string, numpy, scipy\n",
    "from nltk import word_tokenize , sent_tokenize\n",
    "from nltk.util import ngrams , bigrams\n",
    "from nltk.lm import MLE\n",
    "from nltk.lm.preprocessing import pad_both_ends"
   ]
  },
  {
   "cell_type": "markdown",
   "metadata": {},
   "source": [
    "training data - the chatbot should take in some files with \n",
    "example conversation data, and then process it and put it into \n",
    "some sort of vector space or document or matrix.\n",
    "\n",
    "This matrix should have a tf-idf weighting of some sort\n",
    "training data:\n",
    "- https://kili-technology.com/blog/36-best-machine-learning-datasets-for-chatbot-training\n",
    "- https://ai.google.com/research/NaturalQuestions/download\n",
    "- http://convai.io/data/"
   ]
  },
  {
   "cell_type": "code",
   "execution_count": 14,
   "metadata": {},
   "outputs": [],
   "source": [
    "import os\n",
    "\n",
    "document_path = \"Datasets\\\\questions\"\n",
    "\n",
    "corpus = {}\n",
    "\n",
    "for file in os.listdir(document_path):\n",
    "    filepath = document_path + os.sep + file\n",
    "    with open(filepath, encoding='utf-8', errors='ignore', mode='r') as document:\n",
    "        content = document.read()\n",
    "        document_id = file\n",
    "        corpus[document_id] = content "
   ]
  },
  {
   "cell_type": "code",
   "execution_count": 15,
   "metadata": {},
   "outputs": [
    {
     "name": "stdout",
     "output_type": "stream",
     "text": [
      "enter your query\n"
     ]
    }
   ],
   "source": [
    "#asking user for a query\n",
    "print(\"enter your query\")\n",
    "query = input()\n",
    "stop = False\n",
    "while not stop:\n",
    "    if query == 'STOP':\n",
    "        stop = True\n",
    "    else:\n",
    "        print(f'You are searching for {query}')\n",
    "        # your query processing comes here "
   ]
  }
 ],
 "metadata": {
  "kernelspec": {
   "display_name": "Python 3.8.5",
   "language": "python",
   "name": "python3"
  },
  "language_info": {
   "codemirror_mode": {
    "name": "ipython",
    "version": 3
   },
   "file_extension": ".py",
   "mimetype": "text/x-python",
   "name": "python",
   "nbconvert_exporter": "python",
   "pygments_lexer": "ipython3",
   "version": "3.8.5"
  },
  "orig_nbformat": 4,
  "vscode": {
   "interpreter": {
    "hash": "c3a58a561c646cc51c54898e60aed52eb4ee202896a490647e63b7274caa4c8c"
   }
  }
 },
 "nbformat": 4,
 "nbformat_minor": 2
}
