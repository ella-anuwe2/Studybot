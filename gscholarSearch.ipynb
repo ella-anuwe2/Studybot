{
 "cells": [
  {
   "cell_type": "code",
   "execution_count": 1,
   "metadata": {},
   "outputs": [],
   "source": [
    "from urllib import request\n",
    "from urllib.request import FancyURLopener\n",
    "import webbrowser, requests, bs4, sys\n",
    "#source of code https://www.youtube.com/watch?v=dyUhGZ6iNTc"
   ]
  },
  {
   "cell_type": "code",
   "execution_count": 2,
   "metadata": {},
   "outputs": [],
   "source": [
    "def search(query):\n",
    "    res = requests.get(\"https://scholar.google.com/search?q=\"+''.join(sys.argv[1:]))\n",
    "    res.raise_for_status()\n",
    "\n",
    "    soup = bs4.BeautifulSoup(res.text, \"html.parser\")\n",
    "    linkElements = soup.select('.r a')\n",
    "    linkToOpen = min(5, len(linkElements))\n",
    "    for i in range(linkToOpen):\n",
    "        webbrowser.open('https://scholar.google.com'+linkElements[i].get('href'))\n",
    "\n",
    "# def download_documents(keywords, query):\n",
    "#     url = \"https://scholar.google.com/\"\n",
    "#     class MyOpener(FancyURLopener):\n",
    "#         version = 'Mozilla/5.0 (Macintosh; Intel Mac OS X 10_9_2) AppleWebKit/537.36 (KHTML, like Gecko) Chrome/33.0.1750.152 Safari/537.36'\n",
    "#     openurl = MyOpener().open\n",
    "#     raw = request.urlopen(url)\n",
    "#     return -1"
   ]
  }
 ],
 "metadata": {
  "kernelspec": {
   "display_name": "Python 3.10.8 64-bit (microsoft store)",
   "language": "python",
   "name": "python3"
  },
  "language_info": {
   "codemirror_mode": {
    "name": "ipython",
    "version": 3
   },
   "file_extension": ".py",
   "mimetype": "text/x-python",
   "name": "python",
   "nbconvert_exporter": "python",
   "pygments_lexer": "ipython3",
   "version": "3.10.8"
  },
  "orig_nbformat": 4,
  "vscode": {
   "interpreter": {
    "hash": "527c535e79d9b82e952da264c75bcf6572fc08e659129c89b911d6618328dece"
   }
  }
 },
 "nbformat": 4,
 "nbformat_minor": 2
}
